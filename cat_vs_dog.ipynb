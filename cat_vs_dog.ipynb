{
 "cells": [
  {
   "cell_type": "code",
   "execution_count": null,
   "metadata": {},
   "outputs": [],
   "source": [
    "# Import the required libraries\n",
    "import os\n",
    "import pandas as pd\n",
    "import numpy as np\n",
    "import matplotlib.pyplot as plt\n",
    "from sklearn import svm\n",
    "from sklearn.model_selection import GridSearchCV\n",
    "from sklearn.model_selection import train_test_split\n",
    "from sklearn.metrics import accuracy_score\n",
    "from sklearn.metrics import classification_report\n",
    "from skimage.io import imread\n",
    "from skimage.transform import resize"
   ]
  },
  {
   "cell_type": "code",
   "execution_count": null,
   "metadata": {},
   "outputs": [],
   "source": [
    "# Load the image\n",
    "categories = ['cats', 'dogs']\n",
    "flat_data_arr = [] # input array\n",
    "target_arr = [] # output array\n",
    "data_dir = 'dataset/cat_vs_dog/training_set' # https://www.kaggle.com/datasets/chetankv/dogs-cats-images\n",
    "\n",
    "for i in categories:\n",
    "    print(f'loading... category : {i}')\n",
    "    path = os.path.join(data_dir, i)\n",
    "    for img in os.listdir(path):\n",
    "        img_array = imread(os.path.join(path, img))\n",
    "        img_resized = resize(img_array,(150, 150, 3))\n",
    "        flat_data_arr.append(img_resized.flatten())\n",
    "        target_arr.append(categories.index(i))\n",
    "    print(f'loaded category: {i} successfully')\n",
    "\n",
    "flat_data = np.array(flat_data_arr)\n",
    "target = np.array(target_arr)"
   ]
  },
  {
   "cell_type": "code",
   "execution_count": null,
   "metadata": {},
   "outputs": [],
   "source": [
    "# Convert the flat data array into dataframe\n",
    "df = pd.DataFrame(flat_data) \n",
    "df['Target'] = target\n",
    "df.shape"
   ]
  },
  {
   "cell_type": "code",
   "execution_count": null,
   "metadata": {},
   "outputs": [],
   "source": [
    "# # Separate input features and targets\n",
    "x = df.drop(['Target'], axis=1) # features\n",
    "y = df['Target'] # target\n"
   ]
  },
  {
   "cell_type": "code",
   "execution_count": null,
   "metadata": {},
   "outputs": [],
   "source": [
    "# Split train and test value\n",
    "x_train, x_test, y_train, y_test = train_test_split(x, y, test_size = 0.20, random_state = 77, stratify = y)"
   ]
  },
  {
   "cell_type": "code",
   "execution_count": null,
   "metadata": {},
   "outputs": [],
   "source": [
    "# Build and train the model using linear kernel\n",
    "model = svm.SVC(kernel='linear')\n",
    "model.fit(x_train, y_train)"
   ]
  },
  {
   "cell_type": "code",
   "execution_count": null,
   "metadata": {},
   "outputs": [],
   "source": [
    "# Evaluate the accuracy of the model\n",
    "# Testing the model using the testing data\n",
    "y_pred = model.predict(x_test)\n",
    "  \n",
    "# Calculating the accuracy of the model\n",
    "accuracy = accuracy_score(y_pred, y_test)\n",
    "  \n",
    "# Print the accuracy of the model\n",
    "print(f\"The model is {accuracy*100}% accurate.\")\n",
    "\n",
    "# Generate the classification report of the model\n",
    "print(classification_report(y_test, y_pred, target_names = ['cat', 'dog']))"
   ]
  },
  {
   "cell_type": "code",
   "execution_count": null,
   "metadata": {},
   "outputs": [],
   "source": [
    "# Predict the output of the model for a new image\n",
    "path = 'dataset/cat_vs_dog/test_set/cats/cat.4001.jpg'\n",
    "img = imread(path)\n",
    "plt.imshow(img)\n",
    "plt.show()\n",
    "img_resize = resize(img,(150,150,3))\n",
    "l = [img_resize.flatten()]\n",
    "prediction = model.predict(l)\n",
    "for ind,val in enumerate(categories):\n",
    "    print(f'{val} = {prediction[0][ind]*100}%')\n",
    "print(\"The predicted image is : \"+ categories[prediction[0]])"
   ]
  }
 ],
 "metadata": {
  "kernelspec": {
   "display_name": "Python 3 (ipykernel)",
   "language": "python",
   "name": "python3"
  },
  "language_info": {
   "codemirror_mode": {
    "name": "ipython",
    "version": 3
   },
   "file_extension": ".py",
   "mimetype": "text/x-python",
   "name": "python",
   "nbconvert_exporter": "python",
   "pygments_lexer": "ipython3",
   "version": "3.10.9"
  }
 },
 "nbformat": 4,
 "nbformat_minor": 2
}
